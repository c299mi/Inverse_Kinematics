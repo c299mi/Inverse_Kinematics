{
 "cells": [
  {
   "cell_type": "code",
   "execution_count": 5,
   "id": "ab822e62-d753-42ab-a127-28f1d433d848",
   "metadata": {
    "tags": []
   },
   "outputs": [],
   "source": [
    "def Plot(X, Y):\n",
    "    fig = plt.figure(figsize=(5,5))\n",
    "    ax = fig.add_subplot(111)\n",
    "    ax.axis([-1,4,-1,4])\n",
    "    ax.grid()\n",
    "    ax.plot(X, Y)\n",
    "    ax.scatter(X, Y)\n",
    "    ax.plot(Target[0], Target[1], marker='x', ms=20, color='red')\n",
    "    ax.text(X[0], Y[0]-0.4, 'Base', ha='center')\n",
    "    ax.text(X[-1], Y[-1]+0.2, 'End Effector', ha='left')\n",
    "    ax.text(Target[0], Target[1]-0.2, 'Target', ha='left', va='top', color='red')\n"
   ]
  },
  {
   "cell_type": "code",
   "execution_count": 6,
   "id": "d130d14b-c14c-41b0-9b3f-10259df1ab39",
   "metadata": {
    "tags": []
   },
   "outputs": [
    {
     "name": "stdout",
     "output_type": "stream",
     "text": [
      "Target      :  x = 0.9 , y = 0.0\n",
      "End-effector:  x = 0.9000063390884092 , y = 7.211339880797141e-06\n",
      "Error(< 1e-5): 9.900425219305683e-06\n",
      "Loops: 450\n",
      "[0.7670880652975555, -2.530727415391778, -0.9148639153289807]\n"
     ]
    },
    {
     "data": {
      "image/png": "[encoded data removed]",
      "text/plain": [
       "<Figure size 500x500 with 1 Axes>"
      ]
     },
     "metadata": {},
     "output_type": "display_data"
    }
   ],
   "source": [
    "import numpy as np\n",
    "from numpy.linalg import pinv, norm\n",
    "import matplotlib.pyplot as plt\n",
    "\n",
    "# ここに FK, Jacobian 関数の定義を追加\n",
    "def Jacobian(L, TH):\n",
    "    # 各関節の位置を計算\n",
    "    x1 = L[0] * np.cos(TH[0] + np.pi / 2)\n",
    "    y1 = L[0] * np.sin(TH[0] + np.pi / 2)\n",
    "    x2 = x1 + L[1] * np.cos(TH[0] + TH[1] + np.pi / 2)\n",
    "    y2 = y1 + L[1] * np.sin(TH[0] + TH[1] + np.pi / 2)\n",
    "    x3 = x2 + L[2] * np.cos(TH[0] + TH[1] + TH[2] + np.pi / 2)\n",
    "    y3 = y2 + L[2] * np.sin(TH[0] + TH[1] + TH[2] + np.pi / 2)\n",
    "\n",
    "    # ヤコビアン行列の計算\n",
    "    J = np.array([\n",
    "        [-L[0]*np.sin(TH[0] + np.pi / 2) - L[1]*np.sin(TH[0] + TH[1] + np.pi / 2) - L[2]*np.sin(TH[0] + TH[1] + TH[2] + np.pi / 2), \n",
    "         -L[1]*np.sin(TH[0] + TH[1] + np.pi / 2) - L[2]*np.sin(TH[0] + TH[1] + TH[2] + np.pi / 2), \n",
    "         -L[2]*np.sin(TH[0] + TH[1] + TH[2] + np.pi / 2)],\n",
    "        [ L[0]*np.cos(TH[0] + np.pi / 2) + L[1]*np.cos(TH[0] + TH[1] + np.pi / 2) + L[2]*np.cos(TH[0] + TH[1] + TH[2] + np.pi / 2), \n",
    "          L[1]*np.cos(TH[0] + TH[1] + np.pi / 2) + L[2]*np.cos(TH[0] + TH[1] + TH[2] + np.pi / 2), \n",
    "          L[2]*np.cos(TH[0] + TH[1] + TH[2] + np.pi / 2)]\n",
    "    ])\n",
    "    return J\n",
    "\n",
    "def FK(L, TH, plot=False):\n",
    "    # 各関節の角度を計算\n",
    "    th1 = TH[0] + np.pi / 2\n",
    "    th2 = TH[1] + TH[0] + np.pi / 2\n",
    "    th3 = TH[2] + TH[1] + TH[0] + np.pi / 2\n",
    "\n",
    "    # エンドエフェクタの位置を計算\n",
    "    x0 = 0\n",
    "    y0 = 0.7\n",
    "    x1 = x0 + L[0] * np.cos(th1)\n",
    "    y1 = y0 + L[0] * np.sin(th1)\n",
    "    x2 = x1 + L[1] * np.cos(th2)\n",
    "    y2 = y1 + L[1] * np.sin(th2)\n",
    "    x3 = x2 + L[2] * np.cos(th3)\n",
    "    y3 = y2 + L[2] * np.sin(th3)\n",
    "    if plot:\n",
    "        return [x0, x1, x2, x3], [y0, y1, y2, y3]\n",
    "    else:\n",
    "        return np.array([x3, y3])\n",
    "# 角度の上限と下限を設定（例：-90度から90度）\n",
    "TH_max = np.radians([105, 145, 105])  # 上限\n",
    "TH_min = np.radians([-105, -145, -105])  # 下限\n",
    "\n",
    "# 角度を制限範囲内に保つ関数\n",
    "def limit_angles(TH, TH_min, TH_max):\n",
    "    TH_limited = np.clip(TH, TH_min, TH_max)\n",
    "    return TH_limited\n",
    "\n",
    "# 初期パラメータ\n",
    "L1 = 0.456 + 0.26 #base to link1 \n",
    "L2 = 0.83 #link1 to link2\n",
    "L3 = 0.935 #link2 to link3\n",
    "L4 = 1.25 #link3 to link4\n",
    "\n",
    "Target = np.array([0.9, 0])  # 目標位置\n",
    "L = np.array([L2, L3, L4])  # リンクの長さ\n",
    "TH = np.radians([0, 0, 0])  # 初期関節角度\n",
    "scaler = 0.1  # スムーズな遷移のためのスケーラー\n",
    "loops = 0  # ループカウンター\n",
    "\n",
    "while True:\n",
    "    J = Jacobian(L, TH)  # ヤコビアン行列を計算\n",
    "    Err = Target - FK(L, TH, plot=False)  # 目標位置と現在のエンドエフェクタ位置の誤差\n",
    "    dTheta = pinv(J, rcond=1e-15) @ Err.T  # 角度の変化量を計算\n",
    "\n",
    "    # dThetaが1次元配列の場合、以下のように修正\n",
    "    if dTheta.ndim == 1:\n",
    "        TH += dTheta * scaler\n",
    "    else:\n",
    "        TH += dTheta[:, 0] * scaler  # 角度を更新\n",
    "\n",
    "    # 角度を制限範囲内に保つ\n",
    "    TH = limit_angles(TH, TH_min, TH_max)\n",
    "\n",
    "\n",
    "\n",
    "    loops += 1\n",
    "    #X, Y = FK(L, TH, plot=True)\n",
    "    #Plot(X, Y)\n",
    "    ErrNorm = norm(Err)\n",
    "    if ErrNorm < 1e-5:  # 誤差が非常に小さい場合、ループを終了\n",
    "        X, Y = FK(L, TH, plot=True)\n",
    "        Plot(X, Y)\n",
    "        print('Target      :  x =', Target[0], ', y =', Target[1])\n",
    "        print('End-effector:  x =', X[-1], ', y =', Y[-1])\n",
    "        print('Error(< 1e-5):', ErrNorm)\n",
    "        print('Loops:', loops)\n",
    "        break\n",
    "\n",
    "    if loops > 1000:  # ループ回数の上限に達した場合、ループを終了\n",
    "        print('More than 1000 loops')\n",
    "        break\n",
    "\n",
    "        # 各イテレーションでの角度を表示\n",
    "TH_deg = np.degrees(TH)  # ラジアンから度に変換\n",
    "TH_rad = np.radians(TH_deg)  # 度からラジアンに変換\n",
    "\n",
    "TH_rad_list = TH_rad.tolist()\n",
    "\n",
    "print(TH_rad_list)"
   ]
  },
  {
   "cell_type": "code",
   "execution_count": null,
   "id": "c8ca4bb8-e6c9-465b-a96c-0292d0cfa0fb",
   "metadata": {},
   "outputs": [],
   "source": []
  }
 ],
 "metadata": {
  "kernelspec": {
   "display_name": "Python 3 (ipykernel)",
   "language": "python",
   "name": "python3"
  },
  "language_info": {
   "codemirror_mode": {
    "name": "ipython",
    "version": 3
   },
   "file_extension": ".py",
   "mimetype": "text/x-python",
   "name": "python",
   "nbconvert_exporter": "python",
   "pygments_lexer": "ipython3",
   "version": "3.10.6"
  }
 },
 "nbformat": 4,
 "nbformat_minor": 5
}
